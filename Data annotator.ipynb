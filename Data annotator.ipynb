{
 "cells": [
  {
   "cell_type": "markdown",
   "metadata": {},
   "source": [
    "# RO47002 Machine Learning for Robotics\n",
    "* (c) TU Delft, 2020\n",
    "* Period: 2020-2021, Q1\n",
    "* Course homepage: https://brightspace.tudelft.nl/d2l/home/318952"
   ]
  },
  {
   "cell_type": "markdown",
   "metadata": {},
   "source": [
    "Make sure you fill in any place that says `YOUR CODE HERE` or `YOUR ANSWER HERE`. Moreover, if you see an empty cell, please DO NOT delete it, instead run that cell as you would run all other cells. Please fill in your name(s) and other required details below:"
   ]
  },
  {
   "cell_type": "code",
   "execution_count": 1,
   "metadata": {},
   "outputs": [],
   "source": [
    "GROUP_NUMBER = \"61\"\n",
    "STUDENT_NAME1 = \"Oyono Ramos Lourenco de Armada\"                             \n",
    "STUDENT_NUMBER1 = \"4459059\"\n",
    "STUDENT_NAME2 = \"Tom Kerssemakers\"                             \n",
    "STUDENT_NUMBER2 = \"4345487\""
   ]
  },
  {
   "cell_type": "code",
   "execution_count": 2,
   "metadata": {
    "deletable": false,
    "editable": false,
    "nbgrader": {
     "cell_type": "code",
     "checksum": "e3f76d6a626db81c484191482b101edb",
     "grade": true,
     "grade_id": "cell-c35e4c8223095209",
     "locked": true,
     "points": 0,
     "schema_version": 3,
     "solution": false,
     "task": false
    }
   },
   "outputs": [],
   "source": [
    "# Note: this block is a check that you have filled in the above information.\n",
    "# It will throw an AssertionError until all fields are filled\n",
    "assert(GROUP_NUMBER != \"\")\n",
    "assert(STUDENT_NAME1 != \"\")\n",
    "assert(STUDENT_NUMBER1 != \"\")\n",
    "assert(STUDENT_NAME2 != \"\")\n",
    "assert(STUDENT_NUMBER2 != \"\")"
   ]
  },
  {
   "cell_type": "markdown",
   "metadata": {},
   "source": [
    "### General announcements\n",
    "\n",
    "* Do *not* share your solutions, and do *not* copy solutions from others. By submitting your solutions, you claim that you and your lab partner alone are responsible for this code.\n",
    "\n",
    "* Do *not* email questions directly, since we want to provide everybody with the same information and avoid repeating the same answers. Instead, please post your questions regarding this assignment in the correct support forum on Brightspace, this way everybody can benefit from the response. If you do have a particular question that you want to ask directly, please use the scheduled practicum hours to ask a TA.\n",
    "\n",
    "* There is a strict deadline for each assignment. Students are responsible to ensure that they have uploaded their work in time. So, please double check that your upload succeeded to the Brightspace and avoid any late penalties.\n",
    "\n",
    "* This [Jupyter notebook](https://jupyter.org/) uses `nbgrader` to help us with automated tests. `nbgrader` will make various cells in this notebook \"uneditable\" or \"unremovable\" and gives them a special id in the cell metadata. This way, when we run our checks, the system will check the existence of the cell ids and verify the number of points and which checks must be run. While there are ways that you can edit the metadata and work around the restrictions to delete or modify these special cells, you should not do that since then our nbgrader backend will not be able to parse your notebook and give you points for the assignment. You are free to add additional cells, but if you find a cell that you cannot modify or remove, please know that this is on purpose.\n",
    "\n",
    "* This notebook will have in various places a line that throws a `NotImplementedError` exception. These are locations where the assignment requires you to adapt the code! These lines are just there as a reminder for youthat you have not yet adapted that particular piece of code, especially when you execute all the cells. Once your solution code replaced these lines, it should accordingly *not* throw any exceptions anymore.\n",
    "\n",
    "Before you turn this problem in, make sure everything runs as expected. First, **restart the kernel** (in the menubar, select Kernel$\\rightarrow$Restart) and then **run all cells** (in the menubar, select Cell$\\rightarrow$Run All)."
   ]
  },
  {
   "cell_type": "markdown",
   "metadata": {},
   "source": [
    "---"
   ]
  },
  {
   "cell_type": "markdown",
   "metadata": {},
   "source": [
    "# RO4702 - Practicum week 2 - Annotator\n",
    "\n",
    "* Topic: Data collection\n",
    "* Year: 2020-2021\n",
    "* Book chapters: 2, 3"
   ]
  },
  {
   "cell_type": "code",
   "execution_count": 24,
   "metadata": {},
   "outputs": [],
   "source": [
    "# Python ≥3.5 is required\n",
    "import sys\n",
    "assert sys.version_info >= (3, 5)\n",
    "\n",
    "# Scikit-Learn ≥0.20 is required\n",
    "import sklearn\n",
    "assert sklearn.__version__ >= \"0.20\"\n",
    "\n",
    "# Common imports\n",
    "import numpy as np\n",
    "import glob, os\n",
    "import pickle\n",
    "import skimage\n",
    "import skimage.transform\n",
    "\n",
    "# to make this notebook's output stable across runs\n",
    "np.random.seed(42)\n",
    "\n",
    "# To plot pretty figures\n",
    "import matplotlib as mpl\n",
    "import matplotlib.pyplot as plt\n",
    "mpl.rc('axes', labelsize=14)\n",
    "mpl.rc('xtick', labelsize=12)\n",
    "mpl.rc('ytick', labelsize=12)"
   ]
  },
  {
   "cell_type": "code",
   "execution_count": 25,
   "metadata": {},
   "outputs": [],
   "source": [
    "import ipywidgets as widgets\n",
    "from ipywidgets import interact, interactive, IntSlider\n",
    "from IPython.display import display\n",
    "\n",
    "import matplotlib.patches as patches"
   ]
  },
  {
   "cell_type": "markdown",
   "metadata": {},
   "source": [
    "Replace the path below with the path to your image folder"
   ]
  },
  {
   "cell_type": "code",
   "execution_count": 26,
   "metadata": {},
   "outputs": [],
   "source": [
    "IMAGE_DIR = 'images/val'"
   ]
  },
  {
   "cell_type": "markdown",
   "metadata": {},
   "source": [
    "## Get the Data"
   ]
  },
  {
   "cell_type": "markdown",
   "metadata": {},
   "source": [
    "Read an image, and visualize it"
   ]
  },
  {
   "cell_type": "markdown",
   "metadata": {},
   "source": [
    "## Load all images"
   ]
  },
  {
   "cell_type": "code",
   "execution_count": 27,
   "metadata": {},
   "outputs": [
    {
     "name": "stdout",
     "output_type": "stream",
     "text": [
      "found 9 images in target directory\n"
     ]
    }
   ],
   "source": [
    "filenames = glob.glob(os.path.join(IMAGE_DIR, '*.jpg'))\n",
    "filenames = sorted(filenames)\n",
    "N = len(filenames)\n",
    "print(f'found {N} images in target directory')"
   ]
  },
  {
   "cell_type": "code",
   "execution_count": 28,
   "metadata": {},
   "outputs": [],
   "source": [
    "MAX_SIZE = 512\n",
    "\n",
    "def load_and_resize_image(filename, overwrite=False):\n",
    "    print(f'loading \"{filename}\" ...')\n",
    "    I = plt.imread(filename)\n",
    "    \n",
    "    # is the width or height too large?\n",
    "    oversize_ratio = max(I.shape[0] / MAX_SIZE, I.shape[1] / MAX_SIZE)\n",
    "    if oversize_ratio > 1.0:\n",
    "        print('resizing image ...')\n",
    "        I = skimage.transform.rescale(I, (1./oversize_ratio, 1/oversize_ratio, 1), anti_aliasing=True)\n",
    "        \n",
    "        # overwrite the old image file after resizing\n",
    "        if overwrite:\n",
    "            print(f'overwriting \"{filename}\" ...')\n",
    "            plt.imsave(filename, I)\n",
    "            \n",
    "    return I"
   ]
  },
  {
   "cell_type": "code",
   "execution_count": 29,
   "metadata": {},
   "outputs": [
    {
     "name": "stdout",
     "output_type": "stream",
     "text": [
      "loading \"images/val/WhatsApp Image 2020-10-25 at 12.19.04 (1).jpg\" ...\n",
      "resizing image ...\n",
      "overwriting \"images/val/WhatsApp Image 2020-10-25 at 12.19.04 (1).jpg\" ...\n",
      "loading \"images/val/WhatsApp Image 2020-10-25 at 12.19.04 (2).jpg\" ...\n",
      "resizing image ...\n",
      "overwriting \"images/val/WhatsApp Image 2020-10-25 at 12.19.04 (2).jpg\" ...\n",
      "loading \"images/val/WhatsApp Image 2020-10-25 at 12.19.04 (3).jpg\" ...\n",
      "resizing image ...\n",
      "overwriting \"images/val/WhatsApp Image 2020-10-25 at 12.19.04 (3).jpg\" ...\n",
      "loading \"images/val/WhatsApp Image 2020-10-25 at 12.19.04 (4).jpg\" ...\n",
      "resizing image ...\n",
      "overwriting \"images/val/WhatsApp Image 2020-10-25 at 12.19.04 (4).jpg\" ...\n",
      "loading \"images/val/WhatsApp Image 2020-10-25 at 12.19.04 (5).jpg\" ...\n",
      "resizing image ...\n",
      "overwriting \"images/val/WhatsApp Image 2020-10-25 at 12.19.04 (5).jpg\" ...\n",
      "loading \"images/val/WhatsApp Image 2020-10-25 at 12.19.04 (6).jpg\" ...\n",
      "resizing image ...\n",
      "overwriting \"images/val/WhatsApp Image 2020-10-25 at 12.19.04 (6).jpg\" ...\n",
      "loading \"images/val/WhatsApp Image 2020-10-25 at 12.19.04 (7).jpg\" ...\n",
      "resizing image ...\n",
      "overwriting \"images/val/WhatsApp Image 2020-10-25 at 12.19.04 (7).jpg\" ...\n",
      "loading \"images/val/WhatsApp Image 2020-10-25 at 12.19.04 (8).jpg\" ...\n",
      "resizing image ...\n",
      "overwriting \"images/val/WhatsApp Image 2020-10-25 at 12.19.04 (8).jpg\" ...\n",
      "loading \"images/val/WhatsApp Image 2020-10-25 at 12.19.04.jpg\" ...\n",
      "resizing image ...\n",
      "overwriting \"images/val/WhatsApp Image 2020-10-25 at 12.19.04.jpg\" ...\n",
      "loaded 9 images\n"
     ]
    }
   ],
   "source": [
    "overwrite = True\n",
    "\n",
    "Is = [load_and_resize_image(filename, overwrite) for filename in filenames]\n",
    "print('loaded %d images' % len(Is))"
   ]
  },
  {
   "cell_type": "code",
   "execution_count": 27,
   "metadata": {},
   "outputs": [
    {
     "name": "stdout",
     "output_type": "stream",
     "text": [
      "Looking for annotations file \"images/fork\\annots2.npy\": NOT found\n",
      "Initializing empty annotations array\n"
     ]
    }
   ],
   "source": [
    "import pickle\n",
    "\n",
    "annot_filename = os.path.join(IMAGE_DIR, 'annots2.npy')\n",
    "annot_exists = os.path.isfile(annot_filename)\n",
    "\n",
    "print(f'Looking for annotations file \"{annot_filename}\":', 'found' if annot_exists else 'NOT found')\n",
    "\n",
    "# load annotations\n",
    "if annot_exists:\n",
    "    print('Loading annotations')\n",
    "    annots = pickle.load(open(annot_filename, 'rb'))\n",
    "else:\n",
    "    print('Initializing empty annotations array')\n",
    "    annots = np.zeros((N,4)) # x1, y1, x2, y2"
   ]
  },
  {
   "cell_type": "markdown",
   "metadata": {},
   "source": [
    "### Annotate"
   ]
  },
  {
   "cell_type": "markdown",
   "metadata": {},
   "source": [
    "We will use here `%matplotlib notebook` to enable interactive widgets in this notebook. Interactive widgets can take up a lot of memory howeever, so in other notebooks we might prefer to use `%matplotlib inline` to just save plotted results as images without interaction."
   ]
  },
  {
   "cell_type": "code",
   "execution_count": 28,
   "metadata": {},
   "outputs": [],
   "source": [
    "%matplotlib notebook"
   ]
  },
  {
   "cell_type": "code",
   "execution_count": 29,
   "metadata": {},
   "outputs": [],
   "source": [
    "def annotate_image(idx):\n",
    "    # load image\n",
    "    I = Is[idx]\n",
    "\n",
    "    # create plot\n",
    "    fig = plt.figure()\n",
    "    ax = fig.add_subplot(111)\n",
    "    ax.imshow(I)\n",
    "    plt_points_tip = ax.plot(annots[idx,0], annots[idx,1], 'gx', label='tip (left click)')[0]\n",
    "    plt_points_end = ax.plot(annots[idx,2], annots[idx,3], 'rx', label='end (right click)')[0]\n",
    "    fig.legend()\n",
    "\n",
    "    def onclick(event):\n",
    "        cx, cy = event.xdata, event.ydata # don't use x,y\n",
    "        button = event.button # 1 for left, 2 for right\n",
    "\n",
    "        if button == 1:\n",
    "            plt_points_tip.set_xdata([cx])\n",
    "            plt_points_tip.set_ydata([cy])\n",
    "            annots[idx,0] = cx\n",
    "            annots[idx,1] = cy\n",
    "        else:\n",
    "            plt_points_end.set_xdata([cx])\n",
    "            plt_points_end.set_ydata([cy])\n",
    "            annots[idx,2] = cx\n",
    "            annots[idx,3] = cy\n",
    "\n",
    "    fig.canvas.mpl_connect('button_press_event', onclick)\n",
    "\n",
    "def on_save_button_clicked(b):\n",
    "    print(f'Saving annotations \"{annot_filename}\"')\n",
    "    pickle.dump(annots, open(annot_filename, 'wb'))\n",
    "\n",
    "save_button = widgets.Button(description=\"Save changes!\")\n",
    "save_button.on_click(on_save_button_clicked)"
   ]
  },
  {
   "cell_type": "code",
   "execution_count": 30,
   "metadata": {},
   "outputs": [
    {
     "data": {
      "application/vnd.jupyter.widget-view+json": {
       "model_id": "ae2d0ecfeb20412380ed1b40d6012c66",
       "version_major": 2,
       "version_minor": 0
      },
      "text/plain": [
       "interactive(children=(IntSlider(value=0, continuous_update=False, description='idx', max=99), Output()), _dom_…"
      ]
     },
     "metadata": {},
     "output_type": "display_data"
    },
    {
     "data": {
      "text/plain": [
       "<function __main__.annotate_image(idx)>"
      ]
     },
     "execution_count": 30,
     "metadata": {},
     "output_type": "execute_result"
    }
   ],
   "source": [
    "interact(annotate_image, idx=IntSlider(min=0, max=len(Is)-1, continuous_update=False))"
   ]
  },
  {
   "cell_type": "markdown",
   "metadata": {},
   "source": [
    "### Save your annotations\n",
    "Run the cell below should give us a buttom \"save changes\". Click that buttom and save the annotations into 'annots.npy'"
   ]
  },
  {
   "cell_type": "code",
   "execution_count": 24,
   "metadata": {},
   "outputs": [
    {
     "data": {
      "application/vnd.jupyter.widget-view+json": {
       "model_id": "0ccef42f0d7c4268882961d694544ad0",
       "version_major": 2,
       "version_minor": 0
      },
      "text/plain": [
       "Button(description='Save changes!', style=ButtonStyle())"
      ]
     },
     "metadata": {},
     "output_type": "display_data"
    },
    {
     "name": "stdout",
     "output_type": "stream",
     "text": [
      "Saving annotations \"images/fork\\annots.npy\"\n",
      "Saving annotations \"images/fork\\annots.npy\"\n",
      "Saving annotations \"images/fork\\annots2.npy\"\n"
     ]
    }
   ],
   "source": [
    "display(save_button)"
   ]
  },
  {
   "cell_type": "code",
   "execution_count": 25,
   "metadata": {},
   "outputs": [
    {
     "data": {
      "text/plain": [
       "(100, 4)"
      ]
     },
     "execution_count": 25,
     "metadata": {},
     "output_type": "execute_result"
    }
   ],
   "source": [
    "annots.shape"
   ]
  },
  {
   "cell_type": "code",
   "execution_count": 26,
   "metadata": {},
   "outputs": [
    {
     "name": "stdout",
     "output_type": "stream",
     "text": [
      "[[158.89391403  87.46535528 391.62118676 418.54760636]\n",
      " [129.80300494 109.62985745 437.29708843 380.4596173 ]\n",
      " [ 88.24456338 166.42639424 466.80106003 335.46933168]\n",
      " [ 66.7947544  217.70380716 465.50595309 272.69845526]\n",
      " [ 63.85522048 290.29770406 462.41764717 205.16786535]\n",
      " [ 85.21416552 335.10052702 448.80712739 158.98518611]\n",
      " [114.10033055 379.87450213 409.84320078 101.42653659]\n",
      " [168.45667661 425.22880533 322.42396311  54.22329569]\n",
      " [250.52956202 430.72231218 226.92581349  31.27426024]\n",
      " [321.08571131 414.39055311 160.19132918  51.02234177]\n",
      " [373.81849469 392.98239737 126.68700119  75.74267876]\n",
      " [416.39740352 336.90324691  73.4106365  123.13475025]\n",
      " [444.89492946 259.31447937  42.25407535 202.8034823 ]\n",
      " [447.9824107  233.52558619  40.09157492 246.45170423]\n",
      " [426.40954776 146.68561281  73.55392989 343.58294654]\n",
      " [437.72791655 251.69711913  79.93098621 440.53438792]\n",
      " [432.7905675   99.56370968  37.69595606  49.12609971]\n",
      " [412.64951393 108.47954316  77.3277902  335.75315591]\n",
      " [201.47003761 487.65309394  87.8952639  101.06203726]\n",
      " [262.70100365 396.9889974  475.24693474  52.10314696]\n",
      " [474.39334816 363.78124737 204.24378804  58.17455749]\n",
      " [ 34.21858935 129.02379684 212.30930692 489.38272281]\n",
      " [294.62399933 105.88149463  89.55119335 459.63208495]\n",
      " [453.90978868 398.88041548  51.19191186 385.53065161]\n",
      " [ 73.77977953  71.50730763 476.4506373   77.48756789]\n",
      " [475.04162787  64.6719928   64.90847171  66.21966508]\n",
      " [ 57.01461528 425.13316821 464.24867667 432.49281993]\n",
      " [ 86.33090793  42.56902017  78.94764347 438.80421301]\n",
      " [ 56.85723698 432.52657174  68.12907877  38.01210893]\n",
      " [409.70106728 445.33791527 415.47866468  38.98023129]\n",
      " [436.49247616  54.78251778 436.49247616 458.47363348]\n",
      " [483.88483907 205.83697354 179.09946913 475.55853985]\n",
      " [142.27053741 478.11470593 490.50664727 269.89999295]\n",
      " [ 39.33692299 171.67153576 287.72508286 493.35280117]\n",
      " [303.97967158 481.73204819  18.97253856 196.72491517]\n",
      " [350.22060146  39.02386792  42.43887183 304.75891317]\n",
      " [ 35.50269825 278.25076846 369.79991232  49.19526992]\n",
      " [221.23157637  26.51297433 494.69352447 336.31859725]\n",
      " [474.14430081 335.44548836 220.78381694  23.880569  ]\n",
      " [412.32670434 433.06080857 152.8081093  130.28911436]\n",
      " [449.56824642 372.41008217 103.89843139 171.39557017]\n",
      " [468.49436208 320.22915141  88.6177387  198.60198691]\n",
      " [470.77828347 256.63262265  72.73711778 250.16040857]\n",
      " [467.72084743 190.39193167  84.25508592 298.03144367]\n",
      " [444.00517825 133.32763309 117.98894448 354.69668071]\n",
      " [400.04875942  83.23116315 165.60144537 395.82758188]\n",
      " [329.07645247  48.33874737 245.693188   431.9017639 ]\n",
      " [235.48701917  50.72112636 323.6350416  424.75462695]\n",
      " [176.59711506  67.45823845 372.40904934 413.00871071]\n",
      " [116.0380865  108.8158749  404.71695309 376.26835424]\n",
      " [ 93.65580742 147.8997204  456.80445112 306.53833844]\n",
      " [ 68.13839476 225.7185434  463.27774593 210.14654926]\n",
      " [ 91.73478609 310.02864339 442.23168859 132.02759867]\n",
      " [138.89149687 389.34534474 369.051916    62.83870366]\n",
      " [103.99076982 361.74494186 403.12383751 105.83919609]\n",
      " [244.98747128 421.35847854 291.75670583  26.62613891]\n",
      " [306.46562977 419.66372269 226.6994452   33.81799266]\n",
      " [360.48993137 404.95086365 185.0100514   55.83826034]\n",
      " [412.62590291 377.06351687 147.35878366  90.57502808]\n",
      " [448.23698367 341.95745749 121.30860902 113.10759523]\n",
      " [467.54217643 272.81315784  93.77181353 140.13276928]\n",
      " [479.31970522 243.47411798  82.30135844 205.58440024]\n",
      " [469.54575157 317.64851499 105.57334897 461.66637213]\n",
      " [311.77468266 480.77789592  75.19469447 169.97673496]\n",
      " [ 82.69998791 384.13730671 319.67194777  67.58521108]\n",
      " [135.92059891  43.09220596 451.19125507 284.73678074]\n",
      " [399.93287507  62.53029035 378.88907444 439.464288  ]\n",
      " [459.19289039 433.54181581  69.18428158 441.09036953]\n",
      " [ 87.63817764 430.35926463 109.42876206  46.05259402]\n",
      " [ 31.29901069  72.14944704 414.36755907  98.26775715]\n",
      " [479.41805544  65.86379896  86.20916615  42.63626963]\n",
      " [429.7108452   69.77730344 422.04422773 453.10817711]\n",
      " [463.72358784 425.39541718  68.69013644 422.92645811]\n",
      " [464.64792793 434.69239636  58.30111565 442.21733733]\n",
      " [460.99572724 402.31395442  64.01963515 411.65456835]\n",
      " [461.93222253 369.14340336  63.52691949 377.66544193]\n",
      " [465.98865076 327.26835597  61.83767674 340.80451299]\n",
      " [469.31210087 279.53090255  65.66393086 296.3495763 ]\n",
      " [468.85093872 247.29732271  61.81312713 255.03568414]\n",
      " [475.75220306 214.33344791  67.21736068 215.89871551]\n",
      " [470.6296043  174.24998028  63.60280811 174.24998028]\n",
      " [473.96767237 128.72056307  76.32003674 125.60175808]\n",
      " [474.39446834  66.49272205  69.04223227  68.06385475]\n",
      " [ 71.80071496 418.00330385  73.62425884  31.41200121]\n",
      " [172.45562459 423.45962033 159.74591385  25.82724135]\n",
      " [237.74320807 423.47393549 239.56675196  24.11782569]\n",
      " [326.60907752 430.81248316 291.66264895  24.3303403 ]\n",
      " [391.18212789 441.48618367 377.70106728  37.05436549]\n",
      " [420.91363051 448.55284013 420.91363051  45.68266107]\n",
      " [413.2014503   40.7572823  418.20233578 453.33033425]\n",
      " [359.30928216  33.04343947 359.30928216 440.53438792]\n",
      " [283.47432617  32.51215294 281.02897985 438.43964211]\n",
      " [176.1866262   14.78079804 166.78304494 419.13479253]\n",
      " [126.23763598  56.82251209 121.1422995  449.16342119]\n",
      " [ 92.16192875  45.466944    84.70782604 443.01908882]\n",
      " [ 40.36791832 432.86029199 446.39920522 458.88793859]\n",
      " [ 45.52785244 358.83112386 450.4706899  394.43049419]\n",
      " [ 43.0067246  294.36854409 452.59211683 324.29259102]\n",
      " [ 46.68612182 217.6818055  448.80712739 259.10595224]\n",
      " [245.58181302 411.21700289 489.08032841  89.96265905]]\n"
     ]
    }
   ],
   "source": [
    "print(annots)"
   ]
  },
  {
   "cell_type": "code",
   "execution_count": null,
   "metadata": {},
   "outputs": [],
   "source": []
  },
  {
   "cell_type": "code",
   "execution_count": null,
   "metadata": {},
   "outputs": [],
   "source": []
  }
 ],
 "metadata": {
  "kernelspec": {
   "display_name": "Python 3",
   "language": "python",
   "name": "python3"
  },
  "language_info": {
   "codemirror_mode": {
    "name": "ipython",
    "version": 3
   },
   "file_extension": ".py",
   "mimetype": "text/x-python",
   "name": "python",
   "nbconvert_exporter": "python",
   "pygments_lexer": "ipython3",
   "version": "3.7.9"
  }
 },
 "nbformat": 4,
 "nbformat_minor": 4
}
